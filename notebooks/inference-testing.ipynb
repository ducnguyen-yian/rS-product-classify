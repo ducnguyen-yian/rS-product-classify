{
 "cells": [
  {
   "cell_type": "markdown",
   "id": "backed-anniversary",
   "metadata": {},
   "source": [
    "**Pre-process Text Data**"
   ]
  },
  {
   "cell_type": "code",
   "execution_count": null,
   "id": "substantial-broad",
   "metadata": {},
   "outputs": [],
   "source": [
    "!pip install tqdm"
   ]
  },
  {
   "cell_type": "code",
   "execution_count": 1,
   "id": "ranging-millennium",
   "metadata": {},
   "outputs": [
    {
     "name": "stdout",
     "output_type": "stream",
     "text": [
      "/home/ec2-user/SageMaker/data-science-product-image\n",
      "/home/ec2-user/SageMaker/data-science-product-image/notebooks\n"
     ]
    },
    {
     "name": "stderr",
     "output_type": "stream",
     "text": [
      "Using TensorFlow backend.\n"
     ]
    }
   ],
   "source": [
    "%cd ..\n",
    "from src.base_model_trainer import BaseModelTrainer\n",
    "from src.resnet_model_trainer import ResnetHierarchicalModel\n",
    "from src.metrics import *\n",
    "from src.losses import *\n",
    "from src.hierarchy import *\n",
    "from src.class_imbalance import *\n",
    "from src.data_generators import *\n",
    "from src.taxonomy import *\n",
    "from src.inference_testing import *\n",
    "%cd -"
   ]
  },
  {
   "cell_type": "code",
   "execution_count": 2,
   "id": "representative-arbitration",
   "metadata": {},
   "outputs": [],
   "source": [
    "import pandas as pd"
   ]
  },
  {
   "cell_type": "markdown",
   "id": "capital-biotechnology",
   "metadata": {},
   "source": [
    "- want images to be downloaded in separate folder in s3\n",
    "- want to control local image folder "
   ]
  },
  {
   "cell_type": "markdown",
   "id": "centered-springer",
   "metadata": {},
   "source": [
    "**Download Model Locally, Recreate Vector, Download Images, Predict New Data**"
   ]
  },
  {
   "cell_type": "code",
   "execution_count": null,
   "id": "continental-microphone",
   "metadata": {},
   "outputs": [],
   "source": [
    "## NEW DATA  \n",
    "data_to_predict_s3_path = 's3://data-science-product-image/datasets/new-data-to-predict/data-input/march_2021_full/'\n",
    "data_to_predict_s3_file_name = 'march_2021_full.json'\n",
    "local_json_file_name = data_to_predict_s3_path.split('/')[-2]\n",
    "print(local_json_file_name)\n",
    "upload_images_flag = False\n",
    "s3_images_folder = data_to_predict_s3_path+'images'\n",
    "\n",
    "## MODEL \n",
    "taxonomy_s3_path = 's3://data-science-training-datasets/product-image/mturk-50k-v2/taxonomy.json'\n",
    "s3_model_artifact = 's3://sagemaker-us-east-1-232188586941/tensorflow-training-2021-03-17-01-56-43-365/output/model.tar.gz'\n",
    "combination_type = CombinationType.CONCAT\n",
    "text_cols = 'title,description'\n"
   ]
  },
  {
   "cell_type": "code",
   "execution_count": 26,
   "id": "uniform-leonard",
   "metadata": {},
   "outputs": [],
   "source": [
    "format_new_data(data_to_predict_s3_path, data_to_predict_s3_file_name, local_json_file_name, upload_images_flag)"
   ]
  },
  {
   "cell_type": "markdown",
   "id": "excited-layer",
   "metadata": {},
   "source": [
    "**Now run the remove-bad-images.ipynb**"
   ]
  },
  {
   "cell_type": "code",
   "execution_count": 27,
   "id": "moderate-devon",
   "metadata": {},
   "outputs": [],
   "source": [
    "from tqdm import tqdm\n",
    "import glob\n",
    "from PIL import Image\n",
    "from PIL.JpegImagePlugin import JpegImageFile"
   ]
  },
  {
   "cell_type": "code",
   "execution_count": 28,
   "id": "discrete-trust",
   "metadata": {},
   "outputs": [
    {
     "name": "stderr",
     "output_type": "stream",
     "text": [
      "100%|██████████| 435506/435506 [01:36<00:00, 4504.97it/s]\n"
     ]
    }
   ],
   "source": [
    "counter = 0\n",
    "for filename in tqdm(sorted(glob.glob('../files/new_data_to_predict/march_2021_full/*.jpg'))):\n",
    "    im = Image.open(filename)\n",
    "    typestr = f'{type(im)}'\n",
    "    if \"'PIL.JpegImagePlugin.JpegImageFile'\" not in typestr:\n",
    "        dest = filename.replace(\"new_data_to_predict\", \"exceptions\")\n",
    "        !mv {filename} {dest}"
   ]
  },
  {
   "cell_type": "code",
   "execution_count": 29,
   "id": "mounted-swiss",
   "metadata": {},
   "outputs": [
    {
     "data": {
      "text/plain": [
       "0"
      ]
     },
     "execution_count": 29,
     "metadata": {},
     "output_type": "execute_result"
    }
   ],
   "source": [
    "counter"
   ]
  },
  {
   "cell_type": "markdown",
   "id": "outdoor-treat",
   "metadata": {},
   "source": [
    "**Back to Predicting**"
   ]
  },
  {
   "cell_type": "code",
   "execution_count": 18,
   "id": "constant-leonard",
   "metadata": {},
   "outputs": [],
   "source": [
    "model = download_model_locally(taxonomy_s3_path, s3_model_artifact)"
   ]
  },
  {
   "cell_type": "code",
   "execution_count": 19,
   "id": "forced-driver",
   "metadata": {},
   "outputs": [],
   "source": [
    "vectorizer = create_vectorizer(combination_type, text_cols)"
   ]
  },
  {
   "cell_type": "code",
   "execution_count": 30,
   "id": "driving-compression",
   "metadata": {},
   "outputs": [
    {
     "name": "stdout",
     "output_type": "stream",
     "text": [
      "Found 435506 validated image filenames.\n",
      "13610/13610 [==============================] - 4243s 312ms/step\n"
     ]
    }
   ],
   "source": [
    "final_dataset = predict(vectorizer\n",
    "                    , local_json_file_name\n",
    "                    , combination_type\n",
    "                    , model\n",
    "                    , taxonomy_s3_path)"
   ]
  },
  {
   "cell_type": "code",
   "execution_count": 31,
   "id": "present-fortune",
   "metadata": {},
   "outputs": [
    {
     "data": {
      "text/html": [
       "<div>\n",
       "<style scoped>\n",
       "    .dataframe tbody tr th:only-of-type {\n",
       "        vertical-align: middle;\n",
       "    }\n",
       "\n",
       "    .dataframe tbody tr th {\n",
       "        vertical-align: top;\n",
       "    }\n",
       "\n",
       "    .dataframe thead th {\n",
       "        text-align: right;\n",
       "    }\n",
       "</style>\n",
       "<table border=\"1\" class=\"dataframe\">\n",
       "  <thead>\n",
       "    <tr style=\"text-align: right;\">\n",
       "      <th></th>\n",
       "      <th>product_id</th>\n",
       "      <th>title</th>\n",
       "      <th>description</th>\n",
       "      <th>confidence</th>\n",
       "      <th>category1</th>\n",
       "      <th>category2</th>\n",
       "      <th>category3</th>\n",
       "      <th>full_category</th>\n",
       "    </tr>\n",
       "  </thead>\n",
       "  <tbody>\n",
       "    <tr>\n",
       "      <th>0</th>\n",
       "      <td>114899844</td>\n",
       "      <td>Take The Day Off Cleansing Balm by Clinique fo...</td>\n",
       "      <td>Free Shipping. Buy Take The Day Off Cleansing ...</td>\n",
       "      <td>0.993884</td>\n",
       "      <td>Hair &amp; Beauty</td>\n",
       "      <td>Skincare</td>\n",
       "      <td></td>\n",
       "      <td>Hair &amp; Beauty-&gt;Skincare</td>\n",
       "    </tr>\n",
       "    <tr>\n",
       "      <th>1</th>\n",
       "      <td>162545844</td>\n",
       "      <td>Women's Cass Square Toe Heels - A New Day™</td>\n",
       "      <td>Read reviews and buy Women's Cass Square Toe H...</td>\n",
       "      <td>0.997945</td>\n",
       "      <td>Shoes</td>\n",
       "      <td>Heels</td>\n",
       "      <td></td>\n",
       "      <td>Shoes-&gt;Heels</td>\n",
       "    </tr>\n",
       "    <tr>\n",
       "      <th>2</th>\n",
       "      <td>164118817</td>\n",
       "      <td>Easter decor crochet amigurumi pattern - Unico...</td>\n",
       "      <td>Crochet pattern Amigurumi Unicorn toy easter e...</td>\n",
       "      <td>0.846104</td>\n",
       "      <td>Toys &amp; Games</td>\n",
       "      <td>Toys &amp; Games</td>\n",
       "      <td></td>\n",
       "      <td>Toys &amp; Games-&gt;Toys &amp; Games</td>\n",
       "    </tr>\n",
       "    <tr>\n",
       "      <th>3</th>\n",
       "      <td>163494839</td>\n",
       "      <td>beautyblender Beautyblender Pro</td>\n",
       "      <td>Beautyblender Pro - beautyblender Pro is made ...</td>\n",
       "      <td>0.901607</td>\n",
       "      <td>Hair &amp; Beauty</td>\n",
       "      <td>Skincare</td>\n",
       "      <td></td>\n",
       "      <td>Hair &amp; Beauty-&gt;Skincare</td>\n",
       "    </tr>\n",
       "    <tr>\n",
       "      <th>4</th>\n",
       "      <td>163655943</td>\n",
       "      <td>Hopeless Attraction Dusty Blue Floral Print Ma...</td>\n",
       "      <td>This dress features a square neckline, smocked...</td>\n",
       "      <td>0.999897</td>\n",
       "      <td>Clothing</td>\n",
       "      <td>Dresses</td>\n",
       "      <td></td>\n",
       "      <td>Clothing-&gt;Dresses</td>\n",
       "    </tr>\n",
       "  </tbody>\n",
       "</table>\n",
       "</div>"
      ],
      "text/plain": [
       "   product_id                                              title  \\\n",
       "0   114899844  Take The Day Off Cleansing Balm by Clinique fo...   \n",
       "1   162545844         Women's Cass Square Toe Heels - A New Day™   \n",
       "2   164118817  Easter decor crochet amigurumi pattern - Unico...   \n",
       "3   163494839                    beautyblender Beautyblender Pro   \n",
       "4   163655943  Hopeless Attraction Dusty Blue Floral Print Ma...   \n",
       "\n",
       "                                         description  confidence  \\\n",
       "0  Free Shipping. Buy Take The Day Off Cleansing ...    0.993884   \n",
       "1  Read reviews and buy Women's Cass Square Toe H...    0.997945   \n",
       "2  Crochet pattern Amigurumi Unicorn toy easter e...    0.846104   \n",
       "3  Beautyblender Pro - beautyblender Pro is made ...    0.901607   \n",
       "4  This dress features a square neckline, smocked...    0.999897   \n",
       "\n",
       "       category1     category2 category3               full_category  \n",
       "0  Hair & Beauty      Skincare               Hair & Beauty->Skincare  \n",
       "1          Shoes         Heels                          Shoes->Heels  \n",
       "2   Toys & Games  Toys & Games            Toys & Games->Toys & Games  \n",
       "3  Hair & Beauty      Skincare               Hair & Beauty->Skincare  \n",
       "4       Clothing       Dresses                     Clothing->Dresses  "
      ]
     },
     "execution_count": 31,
     "metadata": {},
     "output_type": "execute_result"
    }
   ],
   "source": [
    "final_dataset.head()"
   ]
  },
  {
   "cell_type": "code",
   "execution_count": 32,
   "id": "timely-defendant",
   "metadata": {},
   "outputs": [
    {
     "data": {
      "text/plain": [
       "435506"
      ]
     },
     "execution_count": 32,
     "metadata": {},
     "output_type": "execute_result"
    }
   ],
   "source": [
    "len(final_dataset)"
   ]
  },
  {
   "cell_type": "markdown",
   "id": "arbitrary-division",
   "metadata": {},
   "source": [
    "**Write Data to Experimental Zone**"
   ]
  },
  {
   "cell_type": "code",
   "execution_count": 33,
   "id": "modern-powder",
   "metadata": {},
   "outputs": [],
   "source": [
    "import io\n",
    "import os\n",
    "import boto3\n",
    "\n",
    "local_file_path = 'march_2021.parquet.snappy'\n",
    "experimental_zone_file_path = 'manual_imports/bi_category_data/march_2021/march_2021.parquet.snappy'\n",
    "\n",
    "final_dataset.to_parquet(local_file_path)  \n",
    "    \n",
    "s3 = boto3.client('s3')\n",
    "with open(local_file_path, \"rb\") as f:\n",
    "    s3.upload_fileobj(f, \"prod-rs-datalake-experimental\", experimental_zone_file_path, ExtraArgs={'ACL':'bucket-owner-full-control'})\n",
    "    \n",
    "os.remove(local_file_path)"
   ]
  },
  {
   "cell_type": "code",
   "execution_count": null,
   "id": "functioning-modem",
   "metadata": {},
   "outputs": [],
   "source": []
  },
  {
   "cell_type": "code",
   "execution_count": null,
   "id": "recent-atlas",
   "metadata": {},
   "outputs": [],
   "source": []
  },
  {
   "cell_type": "code",
   "execution_count": null,
   "id": "expanded-surveillance",
   "metadata": {},
   "outputs": [],
   "source": []
  }
 ],
 "metadata": {
  "kernelspec": {
   "display_name": "conda_tensorflow2_p36",
   "language": "python",
   "name": "conda_tensorflow2_p36"
  },
  "language_info": {
   "codemirror_mode": {
    "name": "ipython",
    "version": 3
   },
   "file_extension": ".py",
   "mimetype": "text/x-python",
   "name": "python",
   "nbconvert_exporter": "python",
   "pygments_lexer": "ipython3",
   "version": "3.6.13"
  }
 },
 "nbformat": 4,
 "nbformat_minor": 5
}
