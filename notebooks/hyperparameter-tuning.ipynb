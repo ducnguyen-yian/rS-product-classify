{
 "cells": [
  {
   "cell_type": "code",
   "execution_count": 1,
   "metadata": {},
   "outputs": [
    {
     "name": "stdout",
     "output_type": "stream",
     "text": [
      "/home/ec2-user/SageMaker/data-science-product-image\n",
      "/home/ec2-user/SageMaker/data-science-product-image/notebooks\n"
     ]
    },
    {
     "name": "stderr",
     "output_type": "stream",
     "text": [
      "Using TensorFlow backend.\n"
     ]
    }
   ],
   "source": [
    "import sagemaker\n",
    "from sagemaker import get_execution_role\n",
    "from sagemaker.tensorflow import TensorFlow\n",
    "from sagemaker.tuner import IntegerParameter, CategoricalParameter, ContinuousParameter, HyperparameterTuner\n",
    "%cd ..\n",
    "from src.data_generators import *\n",
    "%cd -"
   ]
  },
  {
   "cell_type": "code",
   "execution_count": 2,
   "metadata": {},
   "outputs": [],
   "source": [
    "sagemaker_session = sagemaker.Session()\n",
    "\n",
    "role = get_execution_role()\n",
    "region = sagemaker_session.boto_session.region_name\n",
    "\n",
    "input_channels = {\n",
    "    \"train\": \"s3://data-science-training-datasets/product-image/mturk-30k-plus-10k\"\n",
    "}"
   ]
  },
  {
   "cell_type": "code",
   "execution_count": 3,
   "metadata": {},
   "outputs": [],
   "source": [
    "hyperparameters={\n",
    "    \"dropout\": 0.4,\n",
    "    \"batch_size\": 32,\n",
    "    \"num_epochs\": 10,\n",
    "    \"num_finetune_epochs\": 5,\n",
    "    \"learning_rate\": 1e-4,\n",
    "    \"num_lock_layers\": 100,\n",
    "    \"validation_split\": 0.1,\n",
    "    \"weight_decay\": 0.01,\n",
    "    \"max_count\": 1000,\n",
    "    \"rotation_range\": 5,\n",
    "    'brightness_range': 0.05,\n",
    "    'shear_range': 0.2,\n",
    "    'zoom_range': 0.05,\n",
    "    'channel_shift_range': 0.05,\n",
    "    'horizontal_flip': True  \n",
    "}"
   ]
  },
  {
   "cell_type": "code",
   "execution_count": 4,
   "metadata": {},
   "outputs": [],
   "source": [
    "estimator = TensorFlow(\n",
    "    entry_point='concatenated_model_trainer.py',\n",
    "    source_dir='../src',\n",
    "    dependencies=['../../data-science-core/util', '../files', '../src'],\n",
    "    role=role,\n",
    "    instance_count=1,\n",
    "    framework_version='2.1.0',\n",
    "    hyperparameters=hyperparameters, \n",
    "    instance_type='ml.p2.xlarge', #'local'\n",
    "    py_version='py3',\n",
    "    script_mode=True\n",
    ")"
   ]
  },
  {
   "cell_type": "code",
   "execution_count": 5,
   "metadata": {},
   "outputs": [],
   "source": [
    "hyperparameter_ranges = {\n",
    "    'learning_rate': ContinuousParameter(1e-5, 5e-3),\n",
    "    'dropout': ContinuousParameter(0.3, 0.5),\n",
    "    'batch_size': CategoricalParameter([16, 32, 64]),\n",
    "    'weight_decay': ContinuousParameter(0.001, 0.5),\n",
    "    'max_count': IntegerParameter(200, 1000),\n",
    "    'rotation_range': IntegerParameter(4, 15),\n",
    "    'brightness_range': ContinuousParameter(0.01, 0.2),\n",
    "    'shear_range': ContinuousParameter(0.01, 0.2),\n",
    "    'zoom_range': ContinuousParameter(0.01, 0.2),\n",
    "    'channel_shift_range': ContinuousParameter(0.01, 0.2),\n",
    "    'num_lock_layers': IntegerParameter(50, 150),\n",
    "    'combination_type': CategoricalParameter([0, 1])\n",
    "}\n",
    "\n",
    "objective_metric_name = 'val_accuracy'\n",
    "objective_type = 'Maximize'\n",
    "\n",
    "metric_definitions = [{'Name': objective_metric_name,\n",
    "                       'Regex': 'Test-Accuracy: ([0-9\\\\.]+);'}]"
   ]
  },
  {
   "cell_type": "code",
   "execution_count": 6,
   "metadata": {},
   "outputs": [],
   "source": [
    "tuner = HyperparameterTuner(estimator,\n",
    "                           objective_metric_name,\n",
    "                           hyperparameter_ranges,\n",
    "                           metric_definitions,\n",
    "                           max_jobs=15,\n",
    "                           max_parallel_jobs=5,\n",
    "                           objective_type=objective_type)"
   ]
  },
  {
   "cell_type": "code",
   "execution_count": null,
   "metadata": {},
   "outputs": [
    {
     "name": "stdout",
     "output_type": "stream",
     "text": [
      "........................................................................................................................................................................................................................................................................................................................................................................................................................................................................................................................................................................................................................................................................................................................................................................................................................................................................................................................................................................................................................................................................................................................................................................................................................................................................................................................................................................................................."
     ]
    }
   ],
   "source": [
    "tuner.fit(input_channels)"
   ]
  },
  {
   "cell_type": "code",
   "execution_count": null,
   "metadata": {},
   "outputs": [],
   "source": []
  }
 ],
 "metadata": {
  "kernelspec": {
   "display_name": "conda_tensorflow2_p36",
   "language": "python",
   "name": "conda_tensorflow2_p36"
  },
  "language_info": {
   "codemirror_mode": {
    "name": "ipython",
    "version": 3
   },
   "file_extension": ".py",
   "mimetype": "text/x-python",
   "name": "python",
   "nbconvert_exporter": "python",
   "pygments_lexer": "ipython3",
   "version": "3.6.10"
  }
 },
 "nbformat": 4,
 "nbformat_minor": 4
}
