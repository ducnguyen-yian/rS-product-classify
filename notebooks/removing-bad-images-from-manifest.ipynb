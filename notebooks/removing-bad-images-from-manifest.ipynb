{
 "cells": [
  {
   "cell_type": "code",
   "execution_count": 1,
   "id": "grand-trick",
   "metadata": {},
   "outputs": [
    {
     "name": "stdout",
     "output_type": "stream",
     "text": [
      "/home/ec2-user/SageMaker/data-science-product-image\n",
      "/home/ec2-user/SageMaker/data-science-product-image/notebooks\n"
     ]
    }
   ],
   "source": [
    "%cd ..\n",
    "from src.common import *\n",
    "%cd -\n",
    "import boto3\n",
    "from botocore.errorfactory import ClientError\n",
    "import json\n",
    "import pandas as pd\n",
    "s3 = boto3.resource('s3')"
   ]
  },
  {
   "cell_type": "code",
   "execution_count": 7,
   "id": "unique-weight",
   "metadata": {},
   "outputs": [],
   "source": [
    "manifest = []\n",
    "with open(\"input.manifest\") as file:\n",
    "    for line in file:\n",
    "        manifest.append(json.loads(line.strip(), strict=False))"
   ]
  },
  {
   "cell_type": "code",
   "execution_count": 8,
   "id": "orange-speaker",
   "metadata": {},
   "outputs": [
    {
     "data": {
      "text/plain": [
       "{'product_id': 125491771,\n",
       " 'source_image_url': 'https://images.rewardstyle.com/img?v=1&width=256&height=256&crop&p=125491771',\n",
       " 'target_image_url': 's3://data-science-labeling-input/product-insight/new-category-20k/images/125491771.jpg',\n",
       " 'source-ref': 's3://data-science-labeling-input/product-insight/new-category-20k/images/125491771.jpg',\n",
       " 'title': 'Fit 1 Chinos',\n",
       " 'description': 'Free shipping and returns on rag & bone Fit 1 Chinos at Nordstrom.com. <p>An extra-slim fit defines the modern look of classic four-pocket chinos crafted from stretch-woven Japanese cotton.</p>'}"
      ]
     },
     "execution_count": 8,
     "metadata": {},
     "output_type": "execute_result"
    }
   ],
   "source": [
    "manifest[1]"
   ]
  },
  {
   "cell_type": "code",
   "execution_count": 3,
   "id": "interstate-palestinian",
   "metadata": {},
   "outputs": [
    {
     "ename": "NameError",
     "evalue": "name 'manifest' is not defined",
     "output_type": "error",
     "traceback": [
      "\u001b[0;31m---------------------------------------------------------------------------\u001b[0m",
      "\u001b[0;31mNameError\u001b[0m                                 Traceback (most recent call last)",
      "\u001b[0;32m<ipython-input-3-7cabca240a20>\u001b[0m in \u001b[0;36m<module>\u001b[0;34m\u001b[0m\n\u001b[1;32m      1\u001b[0m \u001b[0mcache\u001b[0m \u001b[0;34m=\u001b[0m \u001b[0;34m{\u001b[0m\u001b[0;34m}\u001b[0m\u001b[0;34m\u001b[0m\u001b[0;34m\u001b[0m\u001b[0m\n\u001b[0;32m----> 2\u001b[0;31m \u001b[0;32mfor\u001b[0m \u001b[0mproduct\u001b[0m \u001b[0;32min\u001b[0m \u001b[0mmanifest\u001b[0m\u001b[0;34m:\u001b[0m\u001b[0;34m\u001b[0m\u001b[0;34m\u001b[0m\u001b[0m\n\u001b[0m\u001b[1;32m      3\u001b[0m     \u001b[0mcache\u001b[0m\u001b[0;34m[\u001b[0m\u001b[0mproduct\u001b[0m\u001b[0;34m[\u001b[0m\u001b[0;34m'target_image_url'\u001b[0m\u001b[0;34m]\u001b[0m\u001b[0;34m]\u001b[0m \u001b[0;34m=\u001b[0m \u001b[0mproduct\u001b[0m\u001b[0;34m\u001b[0m\u001b[0;34m\u001b[0m\u001b[0m\n",
      "\u001b[0;31mNameError\u001b[0m: name 'manifest' is not defined"
     ]
    }
   ],
   "source": [
    "cache = {}\n",
    "for product in manifest:\n",
    "    cache[product['target_image_url']] = product"
   ]
  },
  {
   "cell_type": "code",
   "execution_count": 10,
   "id": "statewide-mount",
   "metadata": {},
   "outputs": [],
   "source": [
    "new_manifest = []\n",
    "bucket = s3.Bucket('data-science-labeling-input')\n",
    "\n",
    "for image in bucket.objects.filter(Prefix=\"product-insight/new-category-20k/images\"):\n",
    "    key = \"s3://data-science-labeling-input/\" + image.key\n",
    "    if key in cache:\n",
    "        #del cache[key]\n",
    "        new_manifest.append(cache[key])\n"
   ]
  },
  {
   "cell_type": "code",
   "execution_count": 37,
   "id": "secondary-symposium",
   "metadata": {},
   "outputs": [],
   "source": [
    "\n",
    "# with open(\"final-input.manifest\", \"w\") as file:\n",
    "#     for p in new_manifest:\n",
    "#         file.write(json.dumps(p) + \"\\n\")"
   ]
  },
  {
   "cell_type": "code",
   "execution_count": 11,
   "id": "traditional-marble",
   "metadata": {},
   "outputs": [
    {
     "data": {
      "text/plain": [
       "20497"
      ]
     },
     "execution_count": 11,
     "metadata": {},
     "output_type": "execute_result"
    }
   ],
   "source": [
    "len(cache)"
   ]
  },
  {
   "cell_type": "code",
   "execution_count": 12,
   "id": "authorized-appendix",
   "metadata": {},
   "outputs": [
    {
     "data": {
      "text/plain": [
       "23706"
      ]
     },
     "execution_count": 12,
     "metadata": {},
     "output_type": "execute_result"
    }
   ],
   "source": [
    "len(manifest)"
   ]
  },
  {
   "cell_type": "code",
   "execution_count": 13,
   "id": "compressed-sphere",
   "metadata": {},
   "outputs": [
    {
     "data": {
      "text/plain": [
       "20372"
      ]
     },
     "execution_count": 13,
     "metadata": {},
     "output_type": "execute_result"
    }
   ],
   "source": [
    "len(new_manifest)"
   ]
  },
  {
   "cell_type": "code",
   "execution_count": 14,
   "id": "gorgeous-gallery",
   "metadata": {},
   "outputs": [
    {
     "data": {
      "text/plain": [
       "20497"
      ]
     },
     "execution_count": 14,
     "metadata": {},
     "output_type": "execute_result"
    }
   ],
   "source": [
    "#number of uniques \n",
    "unique = [x['product_id'] for x in manifest]\n",
    "\n",
    "import numpy as np\n",
    "len(np.unique(unique))"
   ]
  },
  {
   "cell_type": "code",
   "execution_count": 15,
   "id": "selective-scholar",
   "metadata": {},
   "outputs": [
    {
     "data": {
      "text/html": [
       "<div>\n",
       "<style scoped>\n",
       "    .dataframe tbody tr th:only-of-type {\n",
       "        vertical-align: middle;\n",
       "    }\n",
       "\n",
       "    .dataframe tbody tr th {\n",
       "        vertical-align: top;\n",
       "    }\n",
       "\n",
       "    .dataframe thead th {\n",
       "        text-align: right;\n",
       "    }\n",
       "</style>\n",
       "<table border=\"1\" class=\"dataframe\">\n",
       "  <thead>\n",
       "    <tr style=\"text-align: right;\">\n",
       "      <th></th>\n",
       "      <th>product_id</th>\n",
       "      <th>source_image_url</th>\n",
       "      <th>target_image_url</th>\n",
       "      <th>source-ref</th>\n",
       "      <th>title</th>\n",
       "      <th>description</th>\n",
       "    </tr>\n",
       "  </thead>\n",
       "  <tbody>\n",
       "    <tr>\n",
       "      <th>0</th>\n",
       "      <td>100035589</td>\n",
       "      <td>https://images.rewardstyle.com/img?v=1&amp;width=2...</td>\n",
       "      <td>s3://data-science-labeling-input/product-insig...</td>\n",
       "      <td>s3://data-science-labeling-input/product-insig...</td>\n",
       "      <td>Stretch Weekday Warrior Dress Pants</td>\n",
       "      <td></td>\n",
       "    </tr>\n",
       "  </tbody>\n",
       "</table>\n",
       "</div>"
      ],
      "text/plain": [
       "  product_id                                   source_image_url  \\\n",
       "0  100035589  https://images.rewardstyle.com/img?v=1&width=2...   \n",
       "\n",
       "                                    target_image_url  \\\n",
       "0  s3://data-science-labeling-input/product-insig...   \n",
       "\n",
       "                                          source-ref  \\\n",
       "0  s3://data-science-labeling-input/product-insig...   \n",
       "\n",
       "                                 title description  \n",
       "0  Stretch Weekday Warrior Dress Pants              "
      ]
     },
     "execution_count": 15,
     "metadata": {},
     "output_type": "execute_result"
    }
   ],
   "source": [
    "#replace NaNs with empty string\n",
    "df = pd.DataFrame(new_manifest).fillna('')\n",
    "df['product_id'] = df['product_id'].astype(str)\n",
    "df.head(1)"
   ]
  },
  {
   "cell_type": "code",
   "execution_count": 16,
   "id": "forced-contact",
   "metadata": {},
   "outputs": [],
   "source": [
    "new_manifest_dict = df.to_dict('records')\n",
    "\n",
    "import json \n",
    "\n",
    "with open('final-input.manifest', 'w') as file:\n",
    "    for product in new_manifest_dict:\n",
    "        file.write(json.dumps(product) + \"\\n\")"
   ]
  },
  {
   "cell_type": "code",
   "execution_count": 60,
   "id": "exposed-destruction",
   "metadata": {},
   "outputs": [
    {
     "data": {
      "text/plain": [
       "{'product_id': 100035589,\n",
       " 'source_image_url': 'https://images.rewardstyle.com/img?v=1&width=256&height=256&crop&p=100035589',\n",
       " 'target_image_url': 's3://data-science-labeling-input/product-insight/new-category-20k/images/100035589.jpg',\n",
       " 'source-ref': 's3://data-science-labeling-input/product-insight/new-category-20k/images/100035589.jpg',\n",
       " 'title': 'Stretch Weekday Warrior Dress Pants',\n",
       " 'description': ''}"
      ]
     },
     "execution_count": 60,
     "metadata": {},
     "output_type": "execute_result"
    }
   ],
   "source": [
    "new_manifest_dict[0]"
   ]
  },
  {
   "cell_type": "code",
   "execution_count": null,
   "id": "partial-current",
   "metadata": {},
   "outputs": [],
   "source": []
  }
 ],
 "metadata": {
  "kernelspec": {
   "display_name": "conda_tensorflow2_p36",
   "language": "python",
   "name": "conda_tensorflow2_p36"
  },
  "language_info": {
   "codemirror_mode": {
    "name": "ipython",
    "version": 3
   },
   "file_extension": ".py",
   "mimetype": "text/x-python",
   "name": "python",
   "nbconvert_exporter": "python",
   "pygments_lexer": "ipython3",
   "version": "3.6.10"
  }
 },
 "nbformat": 4,
 "nbformat_minor": 5
}
