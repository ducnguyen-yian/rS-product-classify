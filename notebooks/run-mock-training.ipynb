{
 "cells": [
  {
   "cell_type": "code",
   "execution_count": 1,
   "metadata": {},
   "outputs": [
    {
     "name": "stdout",
     "output_type": "stream",
     "text": [
      "/home/ec2-user/SageMaker/data-science-product-image\n",
      "/home/ec2-user/SageMaker/data-science-product-image/notebooks\n"
     ]
    }
   ],
   "source": [
    "import os\n",
    "import logging\n",
    "logging.disable(logging.WARNING) \n",
    "os.environ[\"TF_CPP_MIN_LOG_LEVEL\"] = \"3\"\n",
    "import json\n",
    "import pandas as pd\n",
    "%cd ..\n",
    "from src.hierarchy import *\n",
    "%cd -\n",
    "import tensorflow as tf\n",
    "import IPython"
   ]
  },
  {
   "cell_type": "code",
   "execution_count": 2,
   "metadata": {},
   "outputs": [],
   "source": [
    "def clip_df(df_path, max_images):\n",
    "    df = pd.read_json(df_path)\n",
    "    df = df[:max_images]\n",
    "    df.to_json(df_path)\n",
    "\n",
    "def mock_environment(training_dir, s3_path, max_images=40):\n",
    "    if not os.path.exists(training_dir):\n",
    "        !mkdir {training_dir}\n",
    "        !aws s3 cp {s3_path} {training_dir} --recursive > /dev/null\n",
    "    clip_df(training_dir + \"/dataframes/training.json\", max_images)\n",
    "    clip_df(training_dir + \"/dataframes/testing.json\", int(max_images * 0.1))\n",
    "    \n",
    "    return [\"--train\", training_dir, '--brightness_range', str(0.03),  \"--batch_size\", str(32), '--channel_shift_range', str(0.07), '--combination_type', str(1), \"--dropout\", str(0.3), \n",
    "            '--horizontal_flip', str(True), \"--learning_rate\", str(1e-3), '--max_count', str(10), '--num_epochs', str(1), '--num_finetune_epochs', str(1), \n",
    "            '--num_lock_layers', str(100), '--rotation_range', str(15), '--shear_range', str(0.06), '--validation_split', str(0.1), \n",
    "            \"--sm-model-dir\", \"/home/ec2-user/SageMaker/data-science-product-image/files/model-files\", \"--weight_decay\", str(0.04), '--zoom_range', str(0.06)]\n",
    "\n",
    "\n",
    "def run_mock_training(commands):\n",
    "    commands_str = \" \".join(commands)\n",
    "    !python ../src/concatenated_model_trainer.py {commands_str}"
   ]
  },
  {
   "cell_type": "code",
   "execution_count": 3,
   "metadata": {},
   "outputs": [],
   "source": [
    "training_dir = \"/home/ec2-user/SageMaker/data-science-product-image/notebooks/dummy-training\"\n",
    "s3_path = 's3://data-science-training-datasets/product-image/mturk-50k'\n",
    "\n",
    "commands = mock_environment(training_dir, s3_path, 100)"
   ]
  },
  {
   "cell_type": "code",
   "execution_count": 4,
   "metadata": {},
   "outputs": [
    {
     "name": "stdout",
     "output_type": "stream",
     "text": [
      "Using TensorFlow backend.\n",
      "100%|███████████████████████████████████████████| 31/31 [00:00<00:00, 62.11it/s]\n",
      "100%|███████████████████████████████████████████| 31/31 [00:00<00:00, 54.30it/s]\n",
      "Found 320 validated image filenames belonging to 2 classes.\n",
      "Found 10 validated image filenames belonging to 2 classes.\n",
      "Found 10 validated image filenames belonging to 2 classes.\n",
      "Train for 10 steps, validate for 1 steps\n",
      "10/10 [==============================] - 50s 5s/step - loss: 46.9623 - accuracy: 0.6781 - hierarchy: 0.6319 - fallback: 0.6812 - val_loss: 79.5568 - val_accuracy: 0.1000 - val_hierarchy: 0.1500 - val_fallback: 0.1000\n",
      "probabilities shape: (10, 73)\n",
      "one hot shape: (10, 73)\n",
      "Train for 10 steps, validate for 1 steps\n",
      "10/10 [==============================] - 46s 5s/step - loss: 26.4897 - accuracy: 0.8750 - hierarchy: 0.8924 - fallback: 0.8781 - val_loss: nan - val_accuracy: 0.0000e+00 - val_hierarchy: 0.2498 - val_fallback: 0.0000e+00\n",
      "Validation performance:\n",
      "1/1 [==============================] - 1s 728ms/step - loss: inf - accuracy: 0.1000 - hierarchy: 0.1500 - fallback: 0.1000\n",
      "Validation-Loss: inf;\n",
      "Validation-Accuracy: 0.1;\n",
      "Validation-Hierarchy: 0.15;\n",
      "Testing performance:\n",
      "1/1 [==============================] - 1s 804ms/step - loss: inf - accuracy: 0.1000 - hierarchy: 0.2000 - fallback: 0.1000\n",
      "Test-Loss: inf;\n",
      "Test-Accuracy: 0.1;\n",
      "Test-Hierarchy: 0.2;\n",
      "probabilities shape: (10, 73)\n",
      "one hot shape: (10, 73)\n"
     ]
    }
   ],
   "source": [
    "run_mock_training(commands)"
   ]
  },
  {
   "cell_type": "code",
   "execution_count": null,
   "metadata": {},
   "outputs": [],
   "source": []
  }
 ],
 "metadata": {
  "kernelspec": {
   "display_name": "conda_tensorflow2_p36",
   "language": "python",
   "name": "conda_tensorflow2_p36"
  },
  "language_info": {
   "codemirror_mode": {
    "name": "ipython",
    "version": 3
   },
   "file_extension": ".py",
   "mimetype": "text/x-python",
   "name": "python",
   "nbconvert_exporter": "python",
   "pygments_lexer": "ipython3",
   "version": "3.6.10"
  }
 },
 "nbformat": 4,
 "nbformat_minor": 4
}
