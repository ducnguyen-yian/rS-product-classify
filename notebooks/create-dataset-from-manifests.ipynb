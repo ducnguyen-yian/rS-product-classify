{
 "cells": [
  {
   "cell_type": "code",
   "execution_count": 1,
   "id": "oriental-update",
   "metadata": {},
   "outputs": [
    {
     "name": "stdout",
     "output_type": "stream",
     "text": [
      "/home/ec2-user/SageMaker/data-science-product-image\n",
      "/home/ec2-user/SageMaker/data-science-product-image/notebooks\n"
     ]
    }
   ],
   "source": [
    "%cd ..\n",
    "from src.human_taxonomy_migrations import *\n",
    "from src.hierarchy import *\n",
    "from src.common import *\n",
    "from sklearn.model_selection import train_test_split\n",
    "%cd -"
   ]
  },
  {
   "cell_type": "markdown",
   "id": "announced-lounge",
   "metadata": {},
   "source": [
    "**To DO**\n",
    "\n",
    "1. Combine all labeling data into one dataframe\n",
    "2. Add one-hot-encoding for human-group\n",
    "3. Split into training and testing dataframes. Upload to s3\n",
    "4. Copy all images that exist in dataframes over to images folder (in the folder with dfs)\n",
    "5. Copy the version of the taxonomy that is used for training to s3 \n",
    "6. Do we want to incorporate SMOTE here when creating the dataframes?\n",
    "\n",
    "s3://data-science-training-datasets/product-image/mturk-30k-plus-10k/ \n",
    "look in this folder for example\n",
    "\n",
    "see create-dataset-from-manifests ipynb but this will need to be updated. some of this notebook will replace that \n"
   ]
  },
  {
   "cell_type": "code",
   "execution_count": 2,
   "id": "central-scene",
   "metadata": {},
   "outputs": [],
   "source": [
    "old_category_30k = create_dataset_from_manifest('s3://data-science-training-output/product-image/mturk-30k-full/output.manifest',\n",
    "                             \"../files/label-taxonomy-final.json\", \n",
    "                             '../files/original-to-final-taxonomy-map.json'\n",
    "                             , '../files/product_image_label_to_training_category_mapping.csv'\n",
    "                             , 'mturk-30k-full'\n",
    "                             , '..//files/human-group-taxonomy.json')"
   ]
  },
  {
   "cell_type": "code",
   "execution_count": 4,
   "id": "limited-profession",
   "metadata": {},
   "outputs": [
    {
     "data": {
      "text/plain": [
       "57"
      ]
     },
     "execution_count": 4,
     "metadata": {},
     "output_type": "execute_result"
    }
   ],
   "source": [
    "len(old_category_30k['one_hot_list'][0])"
   ]
  },
  {
   "cell_type": "code",
   "execution_count": 5,
   "id": "written-shaft",
   "metadata": {},
   "outputs": [],
   "source": [
    "old_category_10k = create_dataset_from_manifest('s3://data-science-training-output/product-image/mturk-10k-full/output.manifest',\n",
    "                             \"../files/label-taxonomy-final.json\", \n",
    "                             '../files/original-to-final-taxonomy-map.json',\n",
    "                            '../files/product_image_label_to_training_category_mapping.csv',\n",
    "                            'mturk-10k-full',\n",
    "                            '..//files/human-group-taxonomy.json')"
   ]
  },
  {
   "cell_type": "code",
   "execution_count": 6,
   "id": "divine-vacuum",
   "metadata": {},
   "outputs": [
    {
     "data": {
      "text/plain": [
       "57"
      ]
     },
     "execution_count": 6,
     "metadata": {},
     "output_type": "execute_result"
    }
   ],
   "source": [
    "len(old_category_10k.one_hot_list[0])"
   ]
  },
  {
   "cell_type": "code",
   "execution_count": 7,
   "id": "atmospheric-dynamics",
   "metadata": {},
   "outputs": [],
   "source": [
    "new_category_20k = create_dataset_from_manifest(\"s3://data-science-labeling-output/product-insight/new-category-20k-mturk/manifests/output/output.manifest\",\n",
    "                             \"../files/label-taxonomy-final.json\", \n",
    "                             None, \n",
    "                            '../files/product_image_label_to_training_category_mapping.csv',\n",
    "                            'new-category-20k-mturk',\n",
    "                             '..//files/human-group-taxonomy.json')"
   ]
  },
  {
   "cell_type": "code",
   "execution_count": 9,
   "id": "neither-donna",
   "metadata": {},
   "outputs": [
    {
     "data": {
      "text/plain": [
       "57"
      ]
     },
     "execution_count": 9,
     "metadata": {},
     "output_type": "execute_result"
    }
   ],
   "source": [
    "len(new_category_20k.one_hot_list[0])"
   ]
  },
  {
   "cell_type": "code",
   "execution_count": 10,
   "id": "developed-range",
   "metadata": {},
   "outputs": [],
   "source": [
    "new_manifest = old_category_30k.append(old_category_10k, ignore_index=True).append(new_category_20k, ignore_index=True)"
   ]
  },
  {
   "cell_type": "code",
   "execution_count": 11,
   "id": "pointed-tonight",
   "metadata": {},
   "outputs": [
    {
     "data": {
      "text/html": [
       "<div>\n",
       "<style scoped>\n",
       "    .dataframe tbody tr th:only-of-type {\n",
       "        vertical-align: middle;\n",
       "    }\n",
       "\n",
       "    .dataframe tbody tr th {\n",
       "        vertical-align: top;\n",
       "    }\n",
       "\n",
       "    .dataframe thead th {\n",
       "        text-align: right;\n",
       "    }\n",
       "</style>\n",
       "<table border=\"1\" class=\"dataframe\">\n",
       "  <thead>\n",
       "    <tr style=\"text-align: right;\">\n",
       "      <th></th>\n",
       "      <th>product_id</th>\n",
       "      <th>target_image_url</th>\n",
       "      <th>title</th>\n",
       "      <th>description</th>\n",
       "      <th>confidence</th>\n",
       "      <th>original_label</th>\n",
       "      <th>human_group</th>\n",
       "      <th>category_id</th>\n",
       "      <th>category_name</th>\n",
       "      <th>one_hot_list</th>\n",
       "      <th>human_group_id</th>\n",
       "      <th>human_group_one_hot_list</th>\n",
       "      <th>image</th>\n",
       "    </tr>\n",
       "  </thead>\n",
       "  <tbody>\n",
       "    <tr>\n",
       "      <th>0</th>\n",
       "      <td>147568898</td>\n",
       "      <td>s3://data-science-product-image/datasets/produ...</td>\n",
       "      <td>Gradina Block Heel Bootie</td>\n",
       "      <td>Free shipping and returns on Vince Camuto Grad...</td>\n",
       "      <td>0.666667</td>\n",
       "      <td>31</td>\n",
       "      <td>Women</td>\n",
       "      <td>15</td>\n",
       "      <td>Boots</td>\n",
       "      <td>[0.0, 0.0, 0.0, 0.0, 0.0, 0.0, 0.0, 0.0, 0.0, ...</td>\n",
       "      <td>1</td>\n",
       "      <td>[0.0, 1.0, 0.0, 0.0, 0.0]</td>\n",
       "      <td>147568898.jpg</td>\n",
       "    </tr>\n",
       "    <tr>\n",
       "      <th>1</th>\n",
       "      <td>142331219</td>\n",
       "      <td>s3://data-science-product-image/datasets/produ...</td>\n",
       "      <td>Seamed &amp; Structured Denim Jacket</td>\n",
       "      <td>Free People - Seamed &amp; Structured Denim Jacket...</td>\n",
       "      <td>1.000000</td>\n",
       "      <td>9</td>\n",
       "      <td>Women</td>\n",
       "      <td>3</td>\n",
       "      <td>Coats &amp; Jackets</td>\n",
       "      <td>[0.0, 0.0, 0.0, 1.0, 0.0, 0.0, 0.0, 0.0, 0.0, ...</td>\n",
       "      <td>1</td>\n",
       "      <td>[0.0, 1.0, 0.0, 0.0, 0.0]</td>\n",
       "      <td>142331219.jpg</td>\n",
       "    </tr>\n",
       "  </tbody>\n",
       "</table>\n",
       "</div>"
      ],
      "text/plain": [
       "  product_id                                   target_image_url  \\\n",
       "0  147568898  s3://data-science-product-image/datasets/produ...   \n",
       "1  142331219  s3://data-science-product-image/datasets/produ...   \n",
       "\n",
       "                              title  \\\n",
       "0         Gradina Block Heel Bootie   \n",
       "1  Seamed & Structured Denim Jacket   \n",
       "\n",
       "                                         description  confidence  \\\n",
       "0  Free shipping and returns on Vince Camuto Grad...    0.666667   \n",
       "1  Free People - Seamed & Structured Denim Jacket...    1.000000   \n",
       "\n",
       "   original_label human_group  category_id    category_name  \\\n",
       "0              31       Women           15            Boots   \n",
       "1               9       Women            3  Coats & Jackets   \n",
       "\n",
       "                                        one_hot_list  human_group_id  \\\n",
       "0  [0.0, 0.0, 0.0, 0.0, 0.0, 0.0, 0.0, 0.0, 0.0, ...               1   \n",
       "1  [0.0, 0.0, 0.0, 1.0, 0.0, 0.0, 0.0, 0.0, 0.0, ...               1   \n",
       "\n",
       "    human_group_one_hot_list          image  \n",
       "0  [0.0, 1.0, 0.0, 0.0, 0.0]  147568898.jpg  \n",
       "1  [0.0, 1.0, 0.0, 0.0, 0.0]  142331219.jpg  "
      ]
     },
     "execution_count": 11,
     "metadata": {},
     "output_type": "execute_result"
    }
   ],
   "source": [
    "new_manifest.head(2)"
   ]
  },
  {
   "cell_type": "code",
   "execution_count": 12,
   "id": "grand-metabolism",
   "metadata": {},
   "outputs": [
    {
     "name": "stdout",
     "output_type": "stream",
     "text": [
      "Length of 30k Old Manifest: 28925\n",
      "Length of 10k Old Manifest: 10978\n",
      "Length of 20k Mew Manifest: 16651\n",
      "Length of New Combined Manifest: 56554\n"
     ]
    }
   ],
   "source": [
    "print('Length of 30k Old Manifest:',len(old_category_30k))\n",
    "print('Length of 10k Old Manifest:',len(old_category_10k))\n",
    "print('Length of 20k Mew Manifest:',len(new_category_20k))\n",
    "print('Length of New Combined Manifest:',len(new_manifest))"
   ]
  },
  {
   "cell_type": "code",
   "execution_count": 13,
   "id": "wicked-toolbox",
   "metadata": {},
   "outputs": [
    {
     "data": {
      "text/plain": [
       "Tops                     5573\n",
       "Dresses                  3647\n",
       "Coats & Jackets          3468\n",
       "Kitchen                  3148\n",
       "Boots                    2875\n",
       "Makeup                   2759\n",
       "Hoodies & Sweatshirts    2237\n",
       "Electronics              1949\n",
       "Skincare                 1901\n",
       "Sneakers & Athletic      1880\n",
       "Jeans                    1597\n",
       "Indoor Furniture         1466\n",
       "Bags                     1464\n",
       "Leggings                 1432\n",
       "Toys & Games             1248\n",
       "Cardigans                1218\n",
       "Shorts                   1193\n",
       "Hats                     1188\n",
       "Bedding & Linens         1080\n",
       "Skirts                    872\n",
       "Baby Gear                 863\n",
       "Sleepwear                 846\n",
       "Sandals                   834\n",
       "Intimate Wear             807\n",
       "Eyewear                   785\n",
       "Food                      782\n",
       "Jumpers & Rompers         755\n",
       "Hair                      753\n",
       "Swimwear                  651\n",
       "Necklaces                 647\n",
       "Earrings                  646\n",
       "Bracelets                 593\n",
       "Closed-Toe Flats          512\n",
       "Watches                   497\n",
       "Phone Cases               454\n",
       "Rugs                      443\n",
       "Activewear                433\n",
       "Entertainment             362\n",
       "Hair Accessories          362\n",
       "Heels                     347\n",
       "Scarves                   283\n",
       "Outdoor Furniture         265\n",
       "Sports & Outdoors         231\n",
       "Belts                     218\n",
       "Bath                      177\n",
       "Fragrances                169\n",
       "Suits                     137\n",
       "Rings                     136\n",
       "Luggage & Travel           97\n",
       "Wallets                    96\n",
       "Gloves                     51\n",
       "Wedges                     51\n",
       "Slippers                   37\n",
       "Ties                       18\n",
       "Vests                      15\n",
       "Umbrellas                   6\n",
       "Name: category_name, dtype: int64"
      ]
     },
     "execution_count": 13,
     "metadata": {},
     "output_type": "execute_result"
    }
   ],
   "source": [
    "new_manifest.category_name.value_counts()"
   ]
  },
  {
   "cell_type": "code",
   "execution_count": 14,
   "id": "spectacular-titanium",
   "metadata": {},
   "outputs": [
    {
     "data": {
      "text/plain": [
       "['s3://data-science-labeling-input/product-insight/new-category-20k/images',\n",
       " 's3://data-science-training-datasets/product-image/mturk-30k-plus-10k/images']"
      ]
     },
     "execution_count": 14,
     "metadata": {},
     "output_type": "execute_result"
    }
   ],
   "source": [
    "#need list of image paths - need to know where to copy images from\n",
    "images_uris = list(new_manifest['target_image_url'].apply(lambda x: \"/\".join(x.split(\"/\")[:-1])).value_counts().index)\n",
    "\n",
    "#are these correct? if not add the correct ones\n",
    "images_uris.append('s3://data-science-training-datasets/product-image/mturk-30k-plus-10k/images')\n",
    "images_uris.remove('s3://data-science-product-image/datasets/product-image-mturk-30k/images')\n",
    "images_uris.remove('s3://data-science-product-image/datasets/product-image-mturk-10k/images')\n",
    "images_uris"
   ]
  },
  {
   "cell_type": "code",
   "execution_count": 15,
   "id": "drawn-notice",
   "metadata": {},
   "outputs": [],
   "source": [
    "#taken from create-dataset-from-manifests ipynb\n",
    "def copy_images_to_new_s3_folder(combined_manifest, s3_base_path, copy_images=False):\n",
    "    if copy_images:\n",
    "        s3_images_path = s3_base_path + \"/images\"\n",
    "        for images_uri in images_uris:\n",
    "            !aws s3 cp {images_uri} {s3_images_path} --recursive > /dev/null"
   ]
  },
  {
   "cell_type": "code",
   "execution_count": 16,
   "id": "verbal-corner",
   "metadata": {},
   "outputs": [],
   "source": [
    "#update this to True when you need to copy images\n",
    "copy_images_to_new_s3_folder(new_manifest, \"s3://data-science-training-datasets/product-image/mturk-50k\", False)\n",
    "copy_images_to_new_s3_folder(new_manifest, \"s3://data-science-training-datasets/product-image/mturk-50k-v2\", False)"
   ]
  },
  {
   "cell_type": "code",
   "execution_count": 17,
   "id": "novel-ebony",
   "metadata": {},
   "outputs": [],
   "source": [
    "final_manifest = final_dataset_updates(new_manifest, 'data-science-training-datasets', \"product-image/mturk-50k/images\", 100)"
   ]
  },
  {
   "cell_type": "code",
   "execution_count": 18,
   "id": "anonymous-frost",
   "metadata": {},
   "outputs": [
    {
     "data": {
      "text/plain": [
       "51700"
      ]
     },
     "execution_count": 18,
     "metadata": {},
     "output_type": "execute_result"
    }
   ],
   "source": [
    "len(final_manifest)"
   ]
  },
  {
   "cell_type": "code",
   "execution_count": 19,
   "id": "southern-thomson",
   "metadata": {},
   "outputs": [
    {
     "data": {
      "text/html": [
       "<div>\n",
       "<style scoped>\n",
       "    .dataframe tbody tr th:only-of-type {\n",
       "        vertical-align: middle;\n",
       "    }\n",
       "\n",
       "    .dataframe tbody tr th {\n",
       "        vertical-align: top;\n",
       "    }\n",
       "\n",
       "    .dataframe thead th {\n",
       "        text-align: right;\n",
       "    }\n",
       "</style>\n",
       "<table border=\"1\" class=\"dataframe\">\n",
       "  <thead>\n",
       "    <tr style=\"text-align: right;\">\n",
       "      <th></th>\n",
       "      <th>product_id</th>\n",
       "      <th>target_image_url</th>\n",
       "      <th>title</th>\n",
       "      <th>description</th>\n",
       "      <th>confidence</th>\n",
       "      <th>original_label</th>\n",
       "      <th>human_group</th>\n",
       "      <th>category_id</th>\n",
       "      <th>category_name</th>\n",
       "      <th>one_hot_list</th>\n",
       "      <th>human_group_id</th>\n",
       "      <th>human_group_one_hot_list</th>\n",
       "      <th>image</th>\n",
       "    </tr>\n",
       "  </thead>\n",
       "  <tbody>\n",
       "    <tr>\n",
       "      <th>52184</th>\n",
       "      <td>ffd9c6aced2f5819fa63151fed0e1007</td>\n",
       "      <td>s3://data-science-training-datasets/product-im...</td>\n",
       "      <td>Patchology Lip Renewal FlashPatch 5-Minute Hyd...</td>\n",
       "      <td>Patchology Lip Renewal FlashPatch 5-Minute Hyd...</td>\n",
       "      <td>0.666667</td>\n",
       "      <td>81</td>\n",
       "      <td>None</td>\n",
       "      <td>51</td>\n",
       "      <td>Makeup</td>\n",
       "      <td>[0.0, 0.0, 0.0, 0.0, 0.0, 0.0, 0.0, 0.0, 0.0, ...</td>\n",
       "      <td>0</td>\n",
       "      <td>[1.0, 0.0, 0.0, 0.0, 0.0]</td>\n",
       "      <td>ffd9c6aced2f5819fa63151fed0e1007.jpg</td>\n",
       "    </tr>\n",
       "  </tbody>\n",
       "</table>\n",
       "</div>"
      ],
      "text/plain": [
       "                             product_id  \\\n",
       "52184  ffd9c6aced2f5819fa63151fed0e1007   \n",
       "\n",
       "                                        target_image_url  \\\n",
       "52184  s3://data-science-training-datasets/product-im...   \n",
       "\n",
       "                                                   title  \\\n",
       "52184  Patchology Lip Renewal FlashPatch 5-Minute Hyd...   \n",
       "\n",
       "                                             description  confidence  \\\n",
       "52184  Patchology Lip Renewal FlashPatch 5-Minute Hyd...    0.666667   \n",
       "\n",
       "       original_label human_group  category_id category_name  \\\n",
       "52184              81        None           51        Makeup   \n",
       "\n",
       "                                            one_hot_list  human_group_id  \\\n",
       "52184  [0.0, 0.0, 0.0, 0.0, 0.0, 0.0, 0.0, 0.0, 0.0, ...               0   \n",
       "\n",
       "        human_group_one_hot_list                                 image  \n",
       "52184  [1.0, 0.0, 0.0, 0.0, 0.0]  ffd9c6aced2f5819fa63151fed0e1007.jpg  "
      ]
     },
     "execution_count": 19,
     "metadata": {},
     "output_type": "execute_result"
    }
   ],
   "source": [
    "final_manifest.tail(1)"
   ]
  },
  {
   "cell_type": "code",
   "execution_count": 20,
   "id": "figured-causing",
   "metadata": {},
   "outputs": [],
   "source": [
    "#taken from create-dataset-from-manifests ipynb\n",
    "def write_dataset_to_s3(combined_manifest, s3_base_path, test_split=0.1):\n",
    "    training, testing = train_test_split(final_manifest, test_size=0.1)\n",
    "    training_path = \"training_set.json\"\n",
    "    testing_path  = \"testing_set.json\"\n",
    "    training.to_json(training_path)\n",
    "    testing.to_json(testing_path)\n",
    "    s3_dataframe_path = s3_base_path + \"/dataframes/\"\n",
    "    training_s3_path = s3_dataframe_path + \"training.json\"\n",
    "    testing_s3_path  = s3_dataframe_path + \"testing.json\"\n",
    "    !aws s3 cp {training_path} {training_s3_path}\n",
    "    !rm {training_path}\n",
    "    !aws s3 cp {testing_path} {testing_s3_path}\n",
    "    !rm {testing_path}"
   ]
  },
  {
   "cell_type": "code",
   "execution_count": 21,
   "id": "anticipated-blood",
   "metadata": {},
   "outputs": [],
   "source": [
    "# write_dataset_to_s3(final_manifest, \"s3://data-science-training-datasets/product-image/mturk-50k\")"
   ]
  },
  {
   "cell_type": "code",
   "execution_count": 22,
   "id": "beginning-hunter",
   "metadata": {},
   "outputs": [
    {
     "name": "stdout",
     "output_type": "stream",
     "text": [
      "upload: ./training_set.json to s3://data-science-training-datasets/product-image/mturk-50k-v2/dataframes/training.json\n",
      "upload: ./testing_set.json to s3://data-science-training-datasets/product-image/mturk-50k-v2/dataframes/testing.json\n"
     ]
    }
   ],
   "source": [
    "write_dataset_to_s3(final_manifest, \"s3://data-science-training-datasets/product-image/mturk-50k-v2\")"
   ]
  },
  {
   "cell_type": "code",
   "execution_count": 23,
   "id": "north-shark",
   "metadata": {},
   "outputs": [
    {
     "name": "stdout",
     "output_type": "stream",
     "text": [
      "upload: ./training_set.json to s3://data-science-training-datasets/product-image/mturk-50k-dummy/dataframes/training.json\n",
      "upload: ./testing_set.json to s3://data-science-training-datasets/product-image/mturk-50k-dummy/dataframes/testing.json\n"
     ]
    }
   ],
   "source": [
    "final_manifest_dummy = final_dataset_updates(new_manifest, 'data-science-training-datasets', \"product-image/mturk-50k-dummy/images\", 100)\n",
    "write_dataset_to_s3(final_manifest_dummy.head(100), \"s3://data-science-training-datasets/product-image/mturk-50k-dummy\")"
   ]
  },
  {
   "cell_type": "markdown",
   "id": "rapid-convert",
   "metadata": {},
   "source": [
    "**Upload Taxonomy**\n",
    "- Uploaded the transformed taxonomy"
   ]
  },
  {
   "cell_type": "code",
   "execution_count": 24,
   "id": "nearby-possibility",
   "metadata": {},
   "outputs": [
    {
     "name": "stdout",
     "output_type": "stream",
     "text": [
      "upload: ./taxonomy.json to s3://data-science-training-datasets/product-image/mturk-50k-dummy/taxonomy.json\n",
      "upload: ./taxonomy.json to s3://data-science-training-datasets/product-image/mturk-50k-v2/taxonomy.json\n"
     ]
    }
   ],
   "source": [
    "#new taxonomy using aggregated categories and transformed so leafs first\n",
    "taxonomy=load_taxonomy('..//files/label-taxonomy-final.json')\n",
    "taxonomy[0]\n",
    "\n",
    "H=Hierarchy(taxonomy, children_key='subcategories')\n",
    "label_to_training_mapping = pd.read_csv('../files/product_image_label_to_training_category_mapping.csv')\n",
    "label_to_final_cat = {}\n",
    "label_to_final_cat_name = {}\n",
    "\n",
    "for dic in H.taxonomy:\n",
    "    label_category_id = dic['id']\n",
    "    training_category_id = int(label_to_training_mapping[label_to_training_mapping['label_category_id']==label_category_id]['training_category_id'].values[0])\n",
    "    training_category_name = str(label_to_training_mapping[label_to_training_mapping['label_category_id']==label_category_id]['training_category_name'].values[0])\n",
    "    dic['id'] = training_category_id\n",
    "    dic['name'] = training_category_name\n",
    "    label_to_final_cat[label_category_id] = training_category_id\n",
    "    label_to_final_cat_name[label_category_id] = training_category_name\n",
    "\n",
    "    if 'parent' in dic.keys():\n",
    "        label_parent_category_id = dic['parent']\n",
    "        training_parent_category_id = int(label_to_training_mapping[label_to_training_mapping['label_category_id']==label_parent_category_id]['training_category_id'].values[0])\n",
    "        dic['parent'] = training_parent_category_id\n",
    "\n",
    "    new_subcategories_list = []\n",
    "    for subcat in dic['subcategories']:\n",
    "        new_subcat = int(label_to_training_mapping[label_to_training_mapping['label_category_id']==subcat]['training_category_id'].values[0])\n",
    "        if new_subcat!=training_category_id:\n",
    "            new_subcategories_list.append(new_subcat)\n",
    "    dic['subcategories'] = list(set(new_subcategories_list))  \n",
    "\n",
    "    if dic['subcategories']==[]:\n",
    "        dic['is_leaf']=True\n",
    "    else:\n",
    "        dic['is_leaf']=False\n",
    "H.taxonomy = [i for n, i in enumerate(H.taxonomy) if i not in H.taxonomy[n + 1:]]\n",
    "H.taxonomy = [i for i in H.taxonomy if (i['name']=='Main') or (i['parent']!=i['id'])]  \n",
    "H.taxonomy = sorted(H.taxonomy, key = lambda i: i['id'])\n",
    "\n",
    "key_order = ['id','name','subcategories','parent','is_leaf']\n",
    "new_taxonomy = []\n",
    "\n",
    "for tax_dict in H.taxonomy:\n",
    "    for k in key_order:\n",
    "        tax_dict = {k : tax_dict[k] for k in key_order if k in tax_dict}\n",
    "    new_taxonomy.append(tax_dict)\n",
    "\n",
    "with open('taxonomy.json', 'w') as f:\n",
    "    json.dump(new_taxonomy, f)\n",
    "    \n",
    "!aws s3 cp 'taxonomy.json' \"s3://data-science-training-datasets/product-image/mturk-50k-dummy/\"\n",
    "!aws s3 cp 'taxonomy.json' \"s3://data-science-training-datasets/product-image/mturk-50k-v2/\"\n"
   ]
  },
  {
   "cell_type": "code",
   "execution_count": 36,
   "id": "young-guest",
   "metadata": {},
   "outputs": [],
   "source": [
    "#previous taxonomy for 50k training (non-v2 version)\n",
    "# taxonomy=load_taxonomy('..//files/label-taxonomy-final.json')\n",
    "# taxonomy[0]\n",
    "\n",
    "# H=Hierarchy(taxonomy, children_key='subcategories')\n",
    "# key_order = ['id','name','subcategories','parent','is_leaf']\n",
    "# new_taxonomy = []\n",
    "\n",
    "# for tax_dict in H.taxonomy:\n",
    "#     for k in key_order:\n",
    "#         tax_dict = {k : tax_dict[k] for k in key_order if k in tax_dict}\n",
    "# #     if (tax_dict['id'] in category_ids) or tax_dict['is_leaf']==False:\n",
    "#     new_taxonomy.append(tax_dict)\n",
    "\n",
    "# with open('taxonomy.json', 'w') as f:\n",
    "#     json.dump(new_taxonomy, f)\n",
    "\n",
    "# !aws s3 cp 'taxonomy.json' \"s3://data-science-training-datasets/product-image/mturk-50k/\"\n",
    "\n",
    "# # !rm 'taxonomy.json'"
   ]
  },
  {
   "cell_type": "markdown",
   "id": "reliable-vienna",
   "metadata": {},
   "source": [
    "**EDA: What does combined data look like?**"
   ]
  },
  {
   "cell_type": "code",
   "execution_count": 19,
   "id": "intended-bedroom",
   "metadata": {},
   "outputs": [
    {
     "data": {
      "text/html": [
       "<div>\n",
       "<style scoped>\n",
       "    .dataframe tbody tr th:only-of-type {\n",
       "        vertical-align: middle;\n",
       "    }\n",
       "\n",
       "    .dataframe tbody tr th {\n",
       "        vertical-align: top;\n",
       "    }\n",
       "\n",
       "    .dataframe thead th {\n",
       "        text-align: right;\n",
       "    }\n",
       "</style>\n",
       "<table border=\"1\" class=\"dataframe\">\n",
       "  <thead>\n",
       "    <tr style=\"text-align: right;\">\n",
       "      <th></th>\n",
       "      <th>product_id</th>\n",
       "      <th>%</th>\n",
       "    </tr>\n",
       "    <tr>\n",
       "      <th>human_group</th>\n",
       "      <th></th>\n",
       "      <th></th>\n",
       "    </tr>\n",
       "  </thead>\n",
       "  <tbody>\n",
       "    <tr>\n",
       "      <th>Baby</th>\n",
       "      <td>1102</td>\n",
       "      <td>0.021045</td>\n",
       "    </tr>\n",
       "    <tr>\n",
       "      <th>Kids</th>\n",
       "      <td>2464</td>\n",
       "      <td>0.047054</td>\n",
       "    </tr>\n",
       "    <tr>\n",
       "      <th>Men</th>\n",
       "      <td>2424</td>\n",
       "      <td>0.046290</td>\n",
       "    </tr>\n",
       "    <tr>\n",
       "      <th>None</th>\n",
       "      <td>16696</td>\n",
       "      <td>0.318839</td>\n",
       "    </tr>\n",
       "    <tr>\n",
       "      <th>Women</th>\n",
       "      <td>29679</td>\n",
       "      <td>0.566772</td>\n",
       "    </tr>\n",
       "  </tbody>\n",
       "</table>\n",
       "</div>"
      ],
      "text/plain": [
       "             product_id         %\n",
       "human_group                      \n",
       "Baby               1102  0.021045\n",
       "Kids               2464  0.047054\n",
       "Men                2424  0.046290\n",
       "None              16696  0.318839\n",
       "Women             29679  0.566772"
      ]
     },
     "execution_count": 19,
     "metadata": {},
     "output_type": "execute_result"
    }
   ],
   "source": [
    "human_groups = pd.DataFrame(new_manifest.groupby('human_group').count()['product_id'])\n",
    "human_groups['%'] = human_groups/human_groups.sum()\n",
    "human_groups"
   ]
  },
  {
   "cell_type": "code",
   "execution_count": 25,
   "id": "bronze-distributor",
   "metadata": {
    "collapsed": true,
    "jupyter": {
     "outputs_hidden": true
    }
   },
   "outputs": [
    {
     "data": {
      "text/html": [
       "<div>\n",
       "<style scoped>\n",
       "    .dataframe tbody tr th:only-of-type {\n",
       "        vertical-align: middle;\n",
       "    }\n",
       "\n",
       "    .dataframe tbody tr th {\n",
       "        vertical-align: top;\n",
       "    }\n",
       "\n",
       "    .dataframe thead th {\n",
       "        text-align: right;\n",
       "    }\n",
       "</style>\n",
       "<table border=\"1\" class=\"dataframe\">\n",
       "  <thead>\n",
       "    <tr style=\"text-align: right;\">\n",
       "      <th></th>\n",
       "      <th>product_id</th>\n",
       "      <th>%</th>\n",
       "    </tr>\n",
       "    <tr>\n",
       "      <th>category_name</th>\n",
       "      <th></th>\n",
       "      <th></th>\n",
       "    </tr>\n",
       "  </thead>\n",
       "  <tbody>\n",
       "    <tr>\n",
       "      <th>Coats &amp; Jackets</th>\n",
       "      <td>3468</td>\n",
       "      <td>0.066227</td>\n",
       "    </tr>\n",
       "    <tr>\n",
       "      <th>Kitchen</th>\n",
       "      <td>3148</td>\n",
       "      <td>0.060116</td>\n",
       "    </tr>\n",
       "    <tr>\n",
       "      <th>Casual Dresses</th>\n",
       "      <td>3110</td>\n",
       "      <td>0.059391</td>\n",
       "    </tr>\n",
       "    <tr>\n",
       "      <th>Makeup</th>\n",
       "      <td>2759</td>\n",
       "      <td>0.052688</td>\n",
       "    </tr>\n",
       "    <tr>\n",
       "      <th>Hoodies &amp; Sweatshirts</th>\n",
       "      <td>2237</td>\n",
       "      <td>0.042719</td>\n",
       "    </tr>\n",
       "    <tr>\n",
       "      <th>Electronics</th>\n",
       "      <td>1949</td>\n",
       "      <td>0.037220</td>\n",
       "    </tr>\n",
       "    <tr>\n",
       "      <th>Skincare</th>\n",
       "      <td>1901</td>\n",
       "      <td>0.036303</td>\n",
       "    </tr>\n",
       "    <tr>\n",
       "      <th>Sneakers &amp; Athletic</th>\n",
       "      <td>1880</td>\n",
       "      <td>0.035902</td>\n",
       "    </tr>\n",
       "    <tr>\n",
       "      <th>Jeans</th>\n",
       "      <td>1597</td>\n",
       "      <td>0.030497</td>\n",
       "    </tr>\n",
       "    <tr>\n",
       "      <th>Indoor Furniture</th>\n",
       "      <td>1466</td>\n",
       "      <td>0.027996</td>\n",
       "    </tr>\n",
       "    <tr>\n",
       "      <th>Leggings</th>\n",
       "      <td>1432</td>\n",
       "      <td>0.027347</td>\n",
       "    </tr>\n",
       "    <tr>\n",
       "      <th>Tees</th>\n",
       "      <td>1402</td>\n",
       "      <td>0.026774</td>\n",
       "    </tr>\n",
       "    <tr>\n",
       "      <th>Toys &amp; Games</th>\n",
       "      <td>1248</td>\n",
       "      <td>0.023833</td>\n",
       "    </tr>\n",
       "    <tr>\n",
       "      <th>Short Boots</th>\n",
       "      <td>1246</td>\n",
       "      <td>0.023795</td>\n",
       "    </tr>\n",
       "    <tr>\n",
       "      <th>Cardigans</th>\n",
       "      <td>1218</td>\n",
       "      <td>0.023260</td>\n",
       "    </tr>\n",
       "    <tr>\n",
       "      <th>Shorts</th>\n",
       "      <td>1193</td>\n",
       "      <td>0.022782</td>\n",
       "    </tr>\n",
       "    <tr>\n",
       "      <th>Hats</th>\n",
       "      <td>1188</td>\n",
       "      <td>0.022687</td>\n",
       "    </tr>\n",
       "    <tr>\n",
       "      <th>Longsleeves</th>\n",
       "      <td>1168</td>\n",
       "      <td>0.022305</td>\n",
       "    </tr>\n",
       "    <tr>\n",
       "      <th>Bedding &amp; Linens</th>\n",
       "      <td>1080</td>\n",
       "      <td>0.020624</td>\n",
       "    </tr>\n",
       "    <tr>\n",
       "      <th>Sleeveless</th>\n",
       "      <td>899</td>\n",
       "      <td>0.017168</td>\n",
       "    </tr>\n",
       "    <tr>\n",
       "      <th>Baby Gear</th>\n",
       "      <td>863</td>\n",
       "      <td>0.016480</td>\n",
       "    </tr>\n",
       "    <tr>\n",
       "      <th>Sleepwear</th>\n",
       "      <td>846</td>\n",
       "      <td>0.016156</td>\n",
       "    </tr>\n",
       "    <tr>\n",
       "      <th>Sandals</th>\n",
       "      <td>834</td>\n",
       "      <td>0.015927</td>\n",
       "    </tr>\n",
       "    <tr>\n",
       "      <th>Food</th>\n",
       "      <td>782</td>\n",
       "      <td>0.014934</td>\n",
       "    </tr>\n",
       "    <tr>\n",
       "      <th>Jumpers &amp; Rompers</th>\n",
       "      <td>755</td>\n",
       "      <td>0.014418</td>\n",
       "    </tr>\n",
       "    <tr>\n",
       "      <th>Hair</th>\n",
       "      <td>753</td>\n",
       "      <td>0.014380</td>\n",
       "    </tr>\n",
       "    <tr>\n",
       "      <th>Sunglasses</th>\n",
       "      <td>680</td>\n",
       "      <td>0.012986</td>\n",
       "    </tr>\n",
       "    <tr>\n",
       "      <th>Swimwear</th>\n",
       "      <td>651</td>\n",
       "      <td>0.012432</td>\n",
       "    </tr>\n",
       "    <tr>\n",
       "      <th>Necklaces</th>\n",
       "      <td>647</td>\n",
       "      <td>0.012356</td>\n",
       "    </tr>\n",
       "    <tr>\n",
       "      <th>Earrings</th>\n",
       "      <td>646</td>\n",
       "      <td>0.012336</td>\n",
       "    </tr>\n",
       "  </tbody>\n",
       "</table>\n",
       "</div>"
      ],
      "text/plain": [
       "                       product_id         %\n",
       "category_name                              \n",
       "Coats & Jackets              3468  0.066227\n",
       "Kitchen                      3148  0.060116\n",
       "Casual Dresses               3110  0.059391\n",
       "Makeup                       2759  0.052688\n",
       "Hoodies & Sweatshirts        2237  0.042719\n",
       "Electronics                  1949  0.037220\n",
       "Skincare                     1901  0.036303\n",
       "Sneakers & Athletic          1880  0.035902\n",
       "Jeans                        1597  0.030497\n",
       "Indoor Furniture             1466  0.027996\n",
       "Leggings                     1432  0.027347\n",
       "Tees                         1402  0.026774\n",
       "Toys & Games                 1248  0.023833\n",
       "Short Boots                  1246  0.023795\n",
       "Cardigans                    1218  0.023260\n",
       "Shorts                       1193  0.022782\n",
       "Hats                         1188  0.022687\n",
       "Longsleeves                  1168  0.022305\n",
       "Bedding & Linens             1080  0.020624\n",
       "Sleeveless                    899  0.017168\n",
       "Baby Gear                     863  0.016480\n",
       "Sleepwear                     846  0.016156\n",
       "Sandals                       834  0.015927\n",
       "Food                          782  0.014934\n",
       "Jumpers & Rompers             755  0.014418\n",
       "Hair                          753  0.014380\n",
       "Sunglasses                    680  0.012986\n",
       "Swimwear                      651  0.012432\n",
       "Necklaces                     647  0.012356\n",
       "Earrings                      646  0.012336"
      ]
     },
     "execution_count": 25,
     "metadata": {},
     "output_type": "execute_result"
    }
   ],
   "source": [
    "categories = pd.DataFrame(new_manifest.groupby('category_name').count()['product_id'])\n",
    "categories['%'] = categories/categories.sum()\n",
    "categories.sort_values(by='%', ascending=False).head(30)"
   ]
  },
  {
   "cell_type": "code",
   "execution_count": 27,
   "id": "nominated-public",
   "metadata": {},
   "outputs": [],
   "source": [
    "categories.sort_values(by='%', ascending=False).to_csv('categories.csv')"
   ]
  },
  {
   "cell_type": "markdown",
   "id": "deadly-richards",
   "metadata": {},
   "source": [
    "**Comparing Distributions Between Training and Testing Dataframes**"
   ]
  },
  {
   "cell_type": "code",
   "execution_count": 91,
   "id": "corporate-patrick",
   "metadata": {},
   "outputs": [
    {
     "name": "stdout",
     "output_type": "stream",
     "text": [
      "download: s3://data-science-training-datasets/product-image/mturk-50k/dataframes/testing.json to ./testing.json\n"
     ]
    }
   ],
   "source": [
    "!aws s3 cp s3://data-science-training-datasets/product-image/mturk-50k/dataframes/testing.json testing.json"
   ]
  },
  {
   "cell_type": "code",
   "execution_count": 92,
   "id": "textile-examination",
   "metadata": {},
   "outputs": [
    {
     "name": "stdout",
     "output_type": "stream",
     "text": [
      "download: s3://data-science-training-datasets/product-image/mturk-50k/dataframes/training.json to ./training.json\n"
     ]
    }
   ],
   "source": [
    "!aws s3 cp s3://data-science-training-datasets/product-image/mturk-50k/dataframes/training.json training.json"
   ]
  },
  {
   "cell_type": "code",
   "execution_count": 94,
   "id": "studied-playback",
   "metadata": {},
   "outputs": [
    {
     "data": {
      "text/html": [
       "<div>\n",
       "<style scoped>\n",
       "    .dataframe tbody tr th:only-of-type {\n",
       "        vertical-align: middle;\n",
       "    }\n",
       "\n",
       "    .dataframe tbody tr th {\n",
       "        vertical-align: top;\n",
       "    }\n",
       "\n",
       "    .dataframe thead th {\n",
       "        text-align: right;\n",
       "    }\n",
       "</style>\n",
       "<table border=\"1\" class=\"dataframe\">\n",
       "  <thead>\n",
       "    <tr style=\"text-align: right;\">\n",
       "      <th></th>\n",
       "      <th>category_id</th>\n",
       "      <th>category_name</th>\n",
       "      <th>product_id</th>\n",
       "      <th>total</th>\n",
       "      <th>pct_total</th>\n",
       "    </tr>\n",
       "  </thead>\n",
       "  <tbody>\n",
       "    <tr>\n",
       "      <th>0</th>\n",
       "      <td>0</td>\n",
       "      <td>Jeans</td>\n",
       "      <td>1379</td>\n",
       "      <td>44542</td>\n",
       "      <td>0.03096</td>\n",
       "    </tr>\n",
       "  </tbody>\n",
       "</table>\n",
       "</div>"
      ],
      "text/plain": [
       "   category_id category_name  product_id  total  pct_total\n",
       "0            0         Jeans        1379  44542    0.03096"
      ]
     },
     "execution_count": 94,
     "metadata": {},
     "output_type": "execute_result"
    }
   ],
   "source": [
    "testing_df = pd.read_json('testing.json')\n",
    "training_df = pd.read_json('training.json')\n",
    "\n",
    "training_df_counts = pd.DataFrame(training_df.groupby(['category_id','category_name']).count()['product_id'])\n",
    "training_df_counts['total'] = training_df_counts['product_id'].sum(axis=0)\n",
    "training_df_counts['pct_total'] = training_df_counts['product_id']/training_df_counts['total']\n",
    "training_df_counts = training_df_counts.reset_index()\n",
    "\n",
    "testing_df_counts = pd.DataFrame(testing_df.groupby(['category_id','category_name']).count()['product_id'])\n",
    "testing_df_counts['total'] = testing_df_counts['product_id'].sum(axis=0)\n",
    "testing_df_counts['pct_total'] = testing_df_counts['product_id']/testing_df_counts['total']\n",
    "testing_df_counts = testing_df_counts.reset_index()\n",
    "\n",
    "combined_dfs = pd.merge(training_df_counts, testing_df_counts, how='left', left_on='category_id', right_on='category_id')\n",
    "combined_dfs.to_csv('combined_dfs.csv')"
   ]
  },
  {
   "cell_type": "code",
   "execution_count": null,
   "id": "previous-console",
   "metadata": {},
   "outputs": [],
   "source": []
  }
 ],
 "metadata": {
  "kernelspec": {
   "display_name": "conda_tensorflow2_p36",
   "language": "python",
   "name": "conda_tensorflow2_p36"
  },
  "language_info": {
   "codemirror_mode": {
    "name": "ipython",
    "version": 3
   },
   "file_extension": ".py",
   "mimetype": "text/x-python",
   "name": "python",
   "nbconvert_exporter": "python",
   "pygments_lexer": "ipython3",
   "version": "3.6.10"
  }
 },
 "nbformat": 4,
 "nbformat_minor": 5
}
