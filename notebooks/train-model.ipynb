{
 "cells": [
  {
   "cell_type": "code",
   "execution_count": 1,
   "metadata": {},
   "outputs": [],
   "source": [
    "import sagemaker\n",
    "from sagemaker import get_execution_role\n",
    "from sagemaker.tensorflow import TensorFlow"
   ]
  },
  {
   "cell_type": "code",
   "execution_count": 2,
   "metadata": {},
   "outputs": [],
   "source": [
    "sagemaker_session = sagemaker.Session()\n",
    "\n",
    "role = get_execution_role()\n",
    "region = sagemaker_session.boto_session.region_name\n",
    "\n",
    "input_channels = {\n",
    "    \"train\": \"s3://data-science-training-datasets/product-image/mturk-50k\"\n",
    "}"
   ]
  },
  {
   "cell_type": "code",
   "execution_count": 3,
   "metadata": {},
   "outputs": [],
   "source": [
    "hyperparameters={\n",
    "    \"dropout\": 0.4,\n",
    "    \"batch_size\": 32,\n",
    "    \"num_epochs\": 10,\n",
    "    \"num_finetune_epochs\": 5,\n",
    "    \"learning_rate\": 1e-4,\n",
    "    \"num_lock_layers\": 100,\n",
    "    \"validation_split\": 0.1,\n",
    "    \"weight_decay\": 0.01,\n",
    "    \"max_count\": 1000,\n",
    "    \"rotation_range\": 5,\n",
    "    'brightness_range': 0.05,\n",
    "    'shear_range': 0.2,\n",
    "    'zoom_range': 0.05,\n",
    "    'channel_shift_range': 0.05,\n",
    "    'horizontal_flip': True  \n",
    "}"
   ]
  },
  {
   "cell_type": "code",
   "execution_count": 5,
   "metadata": {},
   "outputs": [
    {
     "name": "stdout",
     "output_type": "stream",
     "text": [
      "2021-01-15 22:42:50 Starting - Starting the training job...\n",
      "2021-01-15 22:43:14 Starting - Launching requested ML instancesProfilerReport-1610750542: InProgress\n",
      ".........\n",
      "2021-01-15 22:44:51 Starting - Preparing the instances for training......\n",
      "2021-01-15 22:45:39 Downloading - Downloading input data\n",
      "2021-01-15 22:45:39 Stopping - Stopping the training job\n",
      "2021-01-15 22:45:39 Stopped - Training job stopped\n",
      ".."
     ]
    },
    {
     "name": "stderr",
     "output_type": "stream",
     "text": [
      "Job ended with status 'Stopped' rather than 'Completed'. This could mean the job timed out or stopped early for some other reason: Consider checking whether it completed as you expect.\n"
     ]
    },
    {
     "name": "stdout",
     "output_type": "stream",
     "text": [
      "Training seconds: 1\n",
      "Billable seconds: 1\n"
     ]
    }
   ],
   "source": [
    "estimator = TensorFlow(\n",
    "    entry_point='concatenated_model_trainer.py',\n",
    "    source_dir='../src',\n",
    "    dependencies=['../../data-science-core/util', '../files', '../src'],\n",
    "    role=role,\n",
    "    instance_count=1,\n",
    "    framework_version='2.1.0',\n",
    "    hyperparameters=hyperparameters, \n",
    "    instance_type='ml.p2.xlarge', #'local'\n",
    "    py_version='py3',\n",
    "    script_mode=True\n",
    ")\n",
    "\n",
    "estimator.fit(input_channels)"
   ]
  },
  {
   "cell_type": "code",
   "execution_count": null,
   "metadata": {},
   "outputs": [],
   "source": []
  }
 ],
 "metadata": {
  "kernelspec": {
   "display_name": "conda_tensorflow2_p36",
   "language": "python",
   "name": "conda_tensorflow2_p36"
  },
  "language_info": {
   "codemirror_mode": {
    "name": "ipython",
    "version": 3
   },
   "file_extension": ".py",
   "mimetype": "text/x-python",
   "name": "python",
   "nbconvert_exporter": "python",
   "pygments_lexer": "ipython3",
   "version": "3.6.10"
  }
 },
 "nbformat": 4,
 "nbformat_minor": 4
}
